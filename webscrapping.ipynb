{
 "cells": [
  {
   "cell_type": "markdown",
   "metadata": {},
   "source": [
    "# TOP 100 BEST NETFLIX SHOWS TO WATCH IN DECEMBER\n"
   ]
  },
  {
   "cell_type": "markdown",
   "metadata": {},
   "source": [
    "\n",
    "### Import Packages/Libraries\n"
   ]
  },
  {
   "cell_type": "code",
   "execution_count": null,
   "metadata": {},
   "outputs": [],
   "source": [
    "\n",
    "# import the desired librabries for webscraping\n",
    "from bs4 import BeautifulSoup\n",
    "import requests\n",
    "import pandas as pd\n"
   ]
  },
  {
   "cell_type": "markdown",
   "metadata": {},
   "source": [
    "\n",
    "### Get the URL and send GET requests\n"
   ]
  },
  {
   "cell_type": "code",
   "execution_count": null,
   "metadata": {},
   "outputs": [],
   "source": [
    "\n",
    "# store url in a variable\n",
    "url = \"https://editorial.rottentomatoes.com/guide/best-netflix-shows-and-movies-to-binge-watch-now/\"\n",
    "\n",
    "# use requests.get to send request to assess site\n",
    "rt_netflix = requests.get(url)"
   ]
  },
  {
   "cell_type": "markdown",
   "metadata": {},
   "source": [
    "### Parse the HTML site\n"
   ]
  },
  {
   "cell_type": "code",
   "execution_count": null,
   "metadata": {},
   "outputs": [],
   "source": [
    "# use html.parser and the requests.get variable (rt_netflix) to parse and retrieve html content\n",
    "soup = BeautifulSoup(rt_netflix.content, 'html.parser')"
   ]
  },
  {
   "cell_type": "markdown",
   "metadata": {},
   "source": [
    "### Scrape the Site for Movie details"
   ]
  },
  {
   "cell_type": "code",
   "execution_count": null,
   "metadata": {},
   "outputs": [],
   "source": [
    "# use the html tags to assess the desired content to be extracted\n",
    "# this would serve as the base \n",
    "movies = soup.find('div', class_ = 'articleContentBody').find_all('div', class_ = 'row countdown-item')\n",
    "\n",
    "# create an empty list to store details of the extractions\n",
    "info = []\n",
    "\n",
    "# iterate through the movies variable (the base html tag) using a for loop\n",
    "for movie in movies:\n",
    "    movies_class = 'col-sm-18 col-full-xs countdown-item-content'\n",
    "    \n",
    "    # Extracting the name,critic score, year and rank of the movies using their tags and class\n",
    "    Name = movie.find('div', class_ = movies_class).find('a').get_text(strip = True)\n",
    "    Critic_score = movie.find('div', class_ = movies_class).find('span', class_ = 'tMeterScore').get_text(strip = True)\n",
    "    Year = movie.find('div', class_ = movies_class).find('span', class_ = 'subtle start-year').get_text(strip = True).strip('()')\n",
    "    Rank = movie.find('div', class_ = movies_class).find('div', class_ = 'countdown-index').get_text(strip = True).strip('#')\n",
    "    \n",
    "    # store extractions in a viable\n",
    "    infos = [Name, Critic_score, Year, Rank]\n",
    "    \n",
    "    # append the variable to your earlier created empty list\n",
    "    info.append(infos)\n",
    "    "
   ]
  },
  {
   "cell_type": "markdown",
   "metadata": {},
   "source": [
    "### Create a Dataframe"
   ]
  },
  {
   "cell_type": "code",
   "execution_count": null,
   "metadata": {},
   "outputs": [],
   "source": [
    "# create a dataframe with column header using pandas and name the Dataframe Nextflix\n",
    "columns = ['Name', 'Critic_score', 'Year', 'Rank']\n",
    "Netflix = pd.DataFrame(data = info, columns = columns)\n",
    "print(Netflix)"
   ]
  },
  {
   "cell_type": "markdown",
   "metadata": {},
   "source": [
    "### View the Dataframe"
   ]
  },
  {
   "cell_type": "code",
   "execution_count": null,
   "metadata": {},
   "outputs": [],
   "source": [
    "Netflix.head(5)"
   ]
  },
  {
   "cell_type": "markdown",
   "metadata": {},
   "source": [
    "### Export Scraped Data to a CSV file"
   ]
  },
  {
   "cell_type": "code",
   "execution_count": null,
   "metadata": {},
   "outputs": [],
   "source": [
    "# use .to_csv to export dataframe to a csv file\n",
    "# set the index as false\n",
    "Netflix.to_csv('Top_100_Netflix_Shows_data.csv',  header = columns, index=False)"
   ]
  },
  {
   "cell_type": "markdown",
   "metadata": {},
   "source": [
    "### Code to loop through multiple pages on the site\n",
    "\n",
    "#### Challenges"
   ]
  },
  {
   "cell_type": "markdown",
   "metadata": {},
   "source": [
    "- Repetitive data\n",
    "- Data limit"
   ]
  },
  {
   "cell_type": "code",
   "execution_count": null,
   "metadata": {},
   "outputs": [],
   "source": [
    "for page in range(1,4):\n",
    "    url = \"https://www.rottentomatoes.com/browse/movies_at_home/affiliates:netflix~sort:popular?page=\" +str(page)\n",
    "    # rt stands for rotten tomatoes\n",
    "    rt_netflix = requests.get(url)\n",
    "    soup = BeautifulSoup(rt_netflix.content, 'html.parser')\n",
    "    movies = soup.find('div', class_ = 'discovery-tiles__wrap').find_all('a') \n",
    "    \n",
    "    for movie in movies:\n",
    "        Name = movie.find('span', class_ = 'p--small').get_text(strip = True)\n",
    "        Critic_score = movie.find('score-pairs-deprecated')['criticsscore']\n",
    "        Audience_score = movie.find('score-pairs-deprecated')['audiencescore']\n",
    "        Critic_sentiment = movie.find('score-pairs-deprecated')['criticssentiment']\n",
    "        Audience_sentiment = movie.find('score-pairs-deprecated')['audiencesentiment']\n",
    "        \n",
    "        info = [Name, Critic_score, Audience_score, Critic_sentiment, Audience_sentiment]\n",
    "        print(info)"
   ]
  },
  {
   "cell_type": "markdown",
   "metadata": {},
   "source": [
    "#### Documentation for beautiful soup"
   ]
  },
  {
   "cell_type": "markdown",
   "metadata": {},
   "source": [
    "https://www.crummy.com/software/BeautifulSoup/bs4/doc/#bs4.Tag"
   ]
  }
 ],
 "metadata": {
  "kernelspec": {
   "display_name": "base",
   "language": "python",
   "name": "python3"
  },
  "language_info": {
   "codemirror_mode": {
    "name": "ipython",
    "version": 3
   },
   "file_extension": ".py",
   "mimetype": "text/x-python",
   "name": "python",
   "nbconvert_exporter": "python",
   "pygments_lexer": "ipython3",
   "version": "3.11.5"
  }
 },
 "nbformat": 4,
 "nbformat_minor": 2
}
